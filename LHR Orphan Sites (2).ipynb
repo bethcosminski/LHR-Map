{
  "metadata": {
    "kernelspec": {
      "name": "python",
      "display_name": "Python (Pyodide)",
      "language": "python"
    },
    "language_info": {
      "codemirror_mode": {
        "name": "python",
        "version": 3
      },
      "file_extension": ".py",
      "mimetype": "text/x-python",
      "name": "python",
      "nbconvert_exporter": "python",
      "pygments_lexer": "ipython3",
      "version": "3.8"
    }
  },
  "nbformat_minor": 5,
  "nbformat": 4,
  "cells": [
    {
      "id": "1c882cf1-65b6-467e-87c4-5de6db58754f",
      "cell_type": "code",
      "source": "import sys\nprint(sys.executable)",
      "metadata": {
        "trusted": true
      },
      "outputs": [
        {
          "name": "stdout",
          "output_type": "stream",
          "text": "/home/pyodide/this.program\n"
        }
      ],
      "execution_count": 11
    },
    {
      "id": "ebbadaae-027f-493c-85a5-4ea1572ca989",
      "cell_type": "code",
      "source": "%pip install folium",
      "metadata": {
        "trusted": true
      },
      "outputs": [],
      "execution_count": 12
    },
    {
      "id": "7be712e8-4fd0-4b98-8b5d-8d2a0b416a29",
      "cell_type": "code",
      "source": "import folium\nhackensack_coords = [40.738893, -74.104844]\nm = folium.Map(location=hackensack_coords, zoom_start=12, tiles=None)\nfolium.TileLayer(tiles='https://server.arcgisonline.com/ArcGIS/rest/services/World_Imagery/MapServer/tile/{z}/{y}/{x}',\n    attr='ESRI World Imagery',\n    name='Satellite',\n    overlay=False,\n    control=True\n).add_to(m)",
      "metadata": {
        "trusted": true
      },
      "outputs": [
        {
          "execution_count": 13,
          "output_type": "execute_result",
          "data": {
            "text/plain": "<folium.raster_layers.TileLayer at 0x354e228>"
          },
          "metadata": {}
        }
      ],
      "execution_count": 13
    },
    {
      "id": "f660d7db-0719-475f-b92b-91e499b02bf8",
      "cell_type": "code",
      "source": "locations1 = [\n    {\"name\": \"Syncon Resins\", \"lat\": 40.737911427661295, \"lon\": -74.1120098333746},\n    {\"name\": \"Consolidated Bleaching Co.\", \"lat\": 40.77051230376459, \"lon\": -74.03871740268374},\n    {\"name\": \"MI Holdings\", \"lat\": 40.71169274847002, \"lon\": -74.0933},\n    {\"name\": \"Duro-Test Corporation\", \"lat\": 40.77051, \"lon\": -74.03878}]\n\nradius=10\nfor loc in locations1:\n    folium.CircleMarker(\n        location=[loc[\"lat\"], loc[\"lon\"]],\n        radius=radius,\n        color=\"darkblue\",\n        weight=1,\n        fill_opacity=0.6,\n        opacity=1,\n        fill_color=\"cyan\",\n        fill=False,\n        popup=\"True Orphan Site\".format(radius),\n        tooltip=loc[\"name\"]\n    ).add_to(m)\n\nlocations2 = [\n    {\"name\": \"Dye Specialties, Inc\", \"lat\": 40.719866001046825, \"lon\": -74.09282004501311},\n    {\"name\": \"E. Meer Corp\", \"lat\": 40.819995356153846, \"lon\": -74.01455963337158},\n   # {\"name\": \"Armour & Co\", \"lat\": , \"lon\": },\n   # {\"name\": \"Gibraltar Corrugated Paper Co.\", \"lat\": , \"lon\": },\n    {\"name\": \"Columbia Terminals\", \"lat\": 40.72055, \"lon\": -74.11428}]\n\nfor loc in locations2:\n    folium.CircleMarker(\n        location=[loc[\"lat\"], loc[\"lon\"]],\n        radius=radius,\n        color=\"darkgreen\",\n        weight=1,\n        fill_opacity=0.6,\n        opacity=1,\n        fill_color=\"lawngreen\",\n        fill=False,\n        popup=\"Potential Orphan Site\".format(radius),\n        tooltip=loc[\"name\"]\n    ).add_to(m)\nm",
      "metadata": {
        "trusted": true
      },
      "outputs": [
        {
          "execution_count": 14,
          "output_type": "execute_result",
          "data": {
            "text/plain": "<folium.folium.Map at 0x258dc38>",
            "text/html": "<div style=\"width:100%;\"><div style=\"position:relative;width:100%;height:0;padding-bottom:60%;\"><span style=\"color:#565656\">Make this Notebook Trusted to load map: File -> Trust Notebook</span><iframe srcdoc=\"&lt;!DOCTYPE html&gt;\n&lt;html&gt;\n&lt;head&gt;\n    \n    &lt;meta http-equiv=&quot;content-type&quot; content=&quot;text/html; charset=UTF-8&quot; /&gt;\n    \n        &lt;script&gt;\n            L_NO_TOUCH = false;\n            L_DISABLE_3D = false;\n        &lt;/script&gt;\n    \n    &lt;style&gt;html, body {width: 100%;height: 100%;margin: 0;padding: 0;}&lt;/style&gt;\n    &lt;style&gt;#map {position:absolute;top:0;bottom:0;right:0;left:0;}&lt;/style&gt;\n    &lt;script src=&quot;https://cdn.jsdelivr.net/npm/leaflet@1.9.3/dist/leaflet.js&quot;&gt;&lt;/script&gt;\n    &lt;script src=&quot;https://code.jquery.com/jquery-3.7.1.min.js&quot;&gt;&lt;/script&gt;\n    &lt;script src=&quot;https://cdn.jsdelivr.net/npm/bootstrap@5.2.2/dist/js/bootstrap.bundle.min.js&quot;&gt;&lt;/script&gt;\n    &lt;script src=&quot;https://cdnjs.cloudflare.com/ajax/libs/Leaflet.awesome-markers/2.0.2/leaflet.awesome-markers.js&quot;&gt;&lt;/script&gt;\n    &lt;link rel=&quot;stylesheet&quot; href=&quot;https://cdn.jsdelivr.net/npm/leaflet@1.9.3/dist/leaflet.css&quot;/&gt;\n    &lt;link rel=&quot;stylesheet&quot; href=&quot;https://cdn.jsdelivr.net/npm/bootstrap@5.2.2/dist/css/bootstrap.min.css&quot;/&gt;\n    &lt;link rel=&quot;stylesheet&quot; href=&quot;https://netdna.bootstrapcdn.com/bootstrap/3.0.0/css/bootstrap-glyphicons.css&quot;/&gt;\n    &lt;link rel=&quot;stylesheet&quot; href=&quot;https://cdn.jsdelivr.net/npm/@fortawesome/fontawesome-free@6.2.0/css/all.min.css&quot;/&gt;\n    &lt;link rel=&quot;stylesheet&quot; href=&quot;https://cdnjs.cloudflare.com/ajax/libs/Leaflet.awesome-markers/2.0.2/leaflet.awesome-markers.css&quot;/&gt;\n    &lt;link rel=&quot;stylesheet&quot; href=&quot;https://cdn.jsdelivr.net/gh/python-visualization/folium/folium/templates/leaflet.awesome.rotate.min.css&quot;/&gt;\n    \n            &lt;meta name=&quot;viewport&quot; content=&quot;width=device-width,\n                initial-scale=1.0, maximum-scale=1.0, user-scalable=no&quot; /&gt;\n            &lt;style&gt;\n                #map_fc943d1cdd5ed3aa2ea782deb9876bd1 {\n                    position: relative;\n                    width: 100.0%;\n                    height: 100.0%;\n                    left: 0.0%;\n                    top: 0.0%;\n                }\n                .leaflet-container { font-size: 1rem; }\n            &lt;/style&gt;\n        \n&lt;/head&gt;\n&lt;body&gt;\n    \n    \n            &lt;div class=&quot;folium-map&quot; id=&quot;map_fc943d1cdd5ed3aa2ea782deb9876bd1&quot; &gt;&lt;/div&gt;\n        \n&lt;/body&gt;\n&lt;script&gt;\n    \n    \n            var map_fc943d1cdd5ed3aa2ea782deb9876bd1 = L.map(\n                &quot;map_fc943d1cdd5ed3aa2ea782deb9876bd1&quot;,\n                {\n                    center: [40.738893, -74.104844],\n                    crs: L.CRS.EPSG3857,\n                    ...{\n  &quot;zoom&quot;: 12,\n  &quot;zoomControl&quot;: true,\n  &quot;preferCanvas&quot;: false,\n}\n\n                }\n            );\n\n            \n\n        \n    \n            var tile_layer_bca8148a6c8d1c7957870b9d7d4c96db = L.tileLayer(\n                &quot;https://server.arcgisonline.com/ArcGIS/rest/services/World_Imagery/MapServer/tile/{z}/{y}/{x}&quot;,\n                {\n  &quot;minZoom&quot;: 0,\n  &quot;maxZoom&quot;: 18,\n  &quot;maxNativeZoom&quot;: 18,\n  &quot;noWrap&quot;: false,\n  &quot;attribution&quot;: &quot;ESRI World Imagery&quot;,\n  &quot;subdomains&quot;: &quot;abc&quot;,\n  &quot;detectRetina&quot;: false,\n  &quot;tms&quot;: false,\n  &quot;opacity&quot;: 1,\n}\n\n            );\n        \n    \n            tile_layer_bca8148a6c8d1c7957870b9d7d4c96db.addTo(map_fc943d1cdd5ed3aa2ea782deb9876bd1);\n        \n    \n            var circle_marker_ebfa9a77a3ae03768e9edac588d83b5f = L.circleMarker(\n                [40.737911427661295, -74.1120098333746],\n                {&quot;bubblingMouseEvents&quot;: true, &quot;color&quot;: &quot;darkblue&quot;, &quot;dashArray&quot;: null, &quot;dashOffset&quot;: null, &quot;fill&quot;: true, &quot;fillColor&quot;: &quot;cyan&quot;, &quot;fillOpacity&quot;: 0.6, &quot;fillRule&quot;: &quot;evenodd&quot;, &quot;lineCap&quot;: &quot;round&quot;, &quot;lineJoin&quot;: &quot;round&quot;, &quot;opacity&quot;: 1, &quot;radius&quot;: 10, &quot;stroke&quot;: true, &quot;weight&quot;: 1}\n            ).addTo(map_fc943d1cdd5ed3aa2ea782deb9876bd1);\n        \n    \n        var popup_5e7d8294436913011eb2e69ba4f54bcf = L.popup({\n  &quot;maxWidth&quot;: &quot;100%&quot;,\n});\n\n        \n            \n                var html_d2c8a4df5f90ab440b364c03d66d041b = $(`&lt;div id=&quot;html_d2c8a4df5f90ab440b364c03d66d041b&quot; style=&quot;width: 100.0%; height: 100.0%;&quot;&gt;True Orphan Site&lt;/div&gt;`)[0];\n                popup_5e7d8294436913011eb2e69ba4f54bcf.setContent(html_d2c8a4df5f90ab440b364c03d66d041b);\n            \n        \n\n        circle_marker_ebfa9a77a3ae03768e9edac588d83b5f.bindPopup(popup_5e7d8294436913011eb2e69ba4f54bcf)\n        ;\n\n        \n    \n    \n            circle_marker_ebfa9a77a3ae03768e9edac588d83b5f.bindTooltip(\n                `&lt;div&gt;\n                     Syncon Resins\n                 &lt;/div&gt;`,\n                {\n  &quot;sticky&quot;: true,\n}\n            );\n        \n    \n            var circle_marker_a3e41ad95da8c52f0ffa281a2971d963 = L.circleMarker(\n                [40.77051230376459, -74.03871740268374],\n                {&quot;bubblingMouseEvents&quot;: true, &quot;color&quot;: &quot;darkblue&quot;, &quot;dashArray&quot;: null, &quot;dashOffset&quot;: null, &quot;fill&quot;: true, &quot;fillColor&quot;: &quot;cyan&quot;, &quot;fillOpacity&quot;: 0.6, &quot;fillRule&quot;: &quot;evenodd&quot;, &quot;lineCap&quot;: &quot;round&quot;, &quot;lineJoin&quot;: &quot;round&quot;, &quot;opacity&quot;: 1, &quot;radius&quot;: 10, &quot;stroke&quot;: true, &quot;weight&quot;: 1}\n            ).addTo(map_fc943d1cdd5ed3aa2ea782deb9876bd1);\n        \n    \n        var popup_197ddafd44d9b14ca48d041cde347fe6 = L.popup({\n  &quot;maxWidth&quot;: &quot;100%&quot;,\n});\n\n        \n            \n                var html_4427012e367b635c70d808ea23be50b9 = $(`&lt;div id=&quot;html_4427012e367b635c70d808ea23be50b9&quot; style=&quot;width: 100.0%; height: 100.0%;&quot;&gt;True Orphan Site&lt;/div&gt;`)[0];\n                popup_197ddafd44d9b14ca48d041cde347fe6.setContent(html_4427012e367b635c70d808ea23be50b9);\n            \n        \n\n        circle_marker_a3e41ad95da8c52f0ffa281a2971d963.bindPopup(popup_197ddafd44d9b14ca48d041cde347fe6)\n        ;\n\n        \n    \n    \n            circle_marker_a3e41ad95da8c52f0ffa281a2971d963.bindTooltip(\n                `&lt;div&gt;\n                     Consolidated Bleaching Co.\n                 &lt;/div&gt;`,\n                {\n  &quot;sticky&quot;: true,\n}\n            );\n        \n    \n            var circle_marker_5dcee84c8691bdab062e2e24683498c0 = L.circleMarker(\n                [40.71169274847002, -74.0933],\n                {&quot;bubblingMouseEvents&quot;: true, &quot;color&quot;: &quot;darkblue&quot;, &quot;dashArray&quot;: null, &quot;dashOffset&quot;: null, &quot;fill&quot;: true, &quot;fillColor&quot;: &quot;cyan&quot;, &quot;fillOpacity&quot;: 0.6, &quot;fillRule&quot;: &quot;evenodd&quot;, &quot;lineCap&quot;: &quot;round&quot;, &quot;lineJoin&quot;: &quot;round&quot;, &quot;opacity&quot;: 1, &quot;radius&quot;: 10, &quot;stroke&quot;: true, &quot;weight&quot;: 1}\n            ).addTo(map_fc943d1cdd5ed3aa2ea782deb9876bd1);\n        \n    \n        var popup_a970aaf54f4e5f893670ac3aec92689d = L.popup({\n  &quot;maxWidth&quot;: &quot;100%&quot;,\n});\n\n        \n            \n                var html_4773525ddc5e492e63e4356f47a1344d = $(`&lt;div id=&quot;html_4773525ddc5e492e63e4356f47a1344d&quot; style=&quot;width: 100.0%; height: 100.0%;&quot;&gt;True Orphan Site&lt;/div&gt;`)[0];\n                popup_a970aaf54f4e5f893670ac3aec92689d.setContent(html_4773525ddc5e492e63e4356f47a1344d);\n            \n        \n\n        circle_marker_5dcee84c8691bdab062e2e24683498c0.bindPopup(popup_a970aaf54f4e5f893670ac3aec92689d)\n        ;\n\n        \n    \n    \n            circle_marker_5dcee84c8691bdab062e2e24683498c0.bindTooltip(\n                `&lt;div&gt;\n                     MI Holdings\n                 &lt;/div&gt;`,\n                {\n  &quot;sticky&quot;: true,\n}\n            );\n        \n    \n            var circle_marker_ddf90313661ce892d895973860bd6d4f = L.circleMarker(\n                [40.77051, -74.03878],\n                {&quot;bubblingMouseEvents&quot;: true, &quot;color&quot;: &quot;darkblue&quot;, &quot;dashArray&quot;: null, &quot;dashOffset&quot;: null, &quot;fill&quot;: true, &quot;fillColor&quot;: &quot;cyan&quot;, &quot;fillOpacity&quot;: 0.6, &quot;fillRule&quot;: &quot;evenodd&quot;, &quot;lineCap&quot;: &quot;round&quot;, &quot;lineJoin&quot;: &quot;round&quot;, &quot;opacity&quot;: 1, &quot;radius&quot;: 10, &quot;stroke&quot;: true, &quot;weight&quot;: 1}\n            ).addTo(map_fc943d1cdd5ed3aa2ea782deb9876bd1);\n        \n    \n        var popup_c21c2bca38b4b46aae9f1336b6f3bfa0 = L.popup({\n  &quot;maxWidth&quot;: &quot;100%&quot;,\n});\n\n        \n            \n                var html_f694384b38bcfb58e30bbbdc50d80a76 = $(`&lt;div id=&quot;html_f694384b38bcfb58e30bbbdc50d80a76&quot; style=&quot;width: 100.0%; height: 100.0%;&quot;&gt;True Orphan Site&lt;/div&gt;`)[0];\n                popup_c21c2bca38b4b46aae9f1336b6f3bfa0.setContent(html_f694384b38bcfb58e30bbbdc50d80a76);\n            \n        \n\n        circle_marker_ddf90313661ce892d895973860bd6d4f.bindPopup(popup_c21c2bca38b4b46aae9f1336b6f3bfa0)\n        ;\n\n        \n    \n    \n            circle_marker_ddf90313661ce892d895973860bd6d4f.bindTooltip(\n                `&lt;div&gt;\n                     Duro-Test Corporation\n                 &lt;/div&gt;`,\n                {\n  &quot;sticky&quot;: true,\n}\n            );\n        \n    \n            var circle_marker_8aa6df834a3aef0547de6955ee83feb4 = L.circleMarker(\n                [40.719866001046825, -74.09282004501311],\n                {&quot;bubblingMouseEvents&quot;: true, &quot;color&quot;: &quot;darkgreen&quot;, &quot;dashArray&quot;: null, &quot;dashOffset&quot;: null, &quot;fill&quot;: true, &quot;fillColor&quot;: &quot;lawngreen&quot;, &quot;fillOpacity&quot;: 0.6, &quot;fillRule&quot;: &quot;evenodd&quot;, &quot;lineCap&quot;: &quot;round&quot;, &quot;lineJoin&quot;: &quot;round&quot;, &quot;opacity&quot;: 1, &quot;radius&quot;: 10, &quot;stroke&quot;: true, &quot;weight&quot;: 1}\n            ).addTo(map_fc943d1cdd5ed3aa2ea782deb9876bd1);\n        \n    \n        var popup_aa1dcd12166eda6a3ed5b30758ee3607 = L.popup({\n  &quot;maxWidth&quot;: &quot;100%&quot;,\n});\n\n        \n            \n                var html_188df274b75df8f71cc4bf2579888e2c = $(`&lt;div id=&quot;html_188df274b75df8f71cc4bf2579888e2c&quot; style=&quot;width: 100.0%; height: 100.0%;&quot;&gt;Potential Orphan Site&lt;/div&gt;`)[0];\n                popup_aa1dcd12166eda6a3ed5b30758ee3607.setContent(html_188df274b75df8f71cc4bf2579888e2c);\n            \n        \n\n        circle_marker_8aa6df834a3aef0547de6955ee83feb4.bindPopup(popup_aa1dcd12166eda6a3ed5b30758ee3607)\n        ;\n\n        \n    \n    \n            circle_marker_8aa6df834a3aef0547de6955ee83feb4.bindTooltip(\n                `&lt;div&gt;\n                     Dye Specialties, Inc\n                 &lt;/div&gt;`,\n                {\n  &quot;sticky&quot;: true,\n}\n            );\n        \n    \n            var circle_marker_1746274fa6dea390023b4039268ddc92 = L.circleMarker(\n                [40.819995356153846, -74.01455963337158],\n                {&quot;bubblingMouseEvents&quot;: true, &quot;color&quot;: &quot;darkgreen&quot;, &quot;dashArray&quot;: null, &quot;dashOffset&quot;: null, &quot;fill&quot;: true, &quot;fillColor&quot;: &quot;lawngreen&quot;, &quot;fillOpacity&quot;: 0.6, &quot;fillRule&quot;: &quot;evenodd&quot;, &quot;lineCap&quot;: &quot;round&quot;, &quot;lineJoin&quot;: &quot;round&quot;, &quot;opacity&quot;: 1, &quot;radius&quot;: 10, &quot;stroke&quot;: true, &quot;weight&quot;: 1}\n            ).addTo(map_fc943d1cdd5ed3aa2ea782deb9876bd1);\n        \n    \n        var popup_dd49240c4c51d87bfd865caf289a9acf = L.popup({\n  &quot;maxWidth&quot;: &quot;100%&quot;,\n});\n\n        \n            \n                var html_f969582c94cc7166d2f3f606903ab5a5 = $(`&lt;div id=&quot;html_f969582c94cc7166d2f3f606903ab5a5&quot; style=&quot;width: 100.0%; height: 100.0%;&quot;&gt;Potential Orphan Site&lt;/div&gt;`)[0];\n                popup_dd49240c4c51d87bfd865caf289a9acf.setContent(html_f969582c94cc7166d2f3f606903ab5a5);\n            \n        \n\n        circle_marker_1746274fa6dea390023b4039268ddc92.bindPopup(popup_dd49240c4c51d87bfd865caf289a9acf)\n        ;\n\n        \n    \n    \n            circle_marker_1746274fa6dea390023b4039268ddc92.bindTooltip(\n                `&lt;div&gt;\n                     E. Meer Corp\n                 &lt;/div&gt;`,\n                {\n  &quot;sticky&quot;: true,\n}\n            );\n        \n    \n            var circle_marker_12d0e1758f637e734e23dd28da174824 = L.circleMarker(\n                [40.72055, -74.11428],\n                {&quot;bubblingMouseEvents&quot;: true, &quot;color&quot;: &quot;darkgreen&quot;, &quot;dashArray&quot;: null, &quot;dashOffset&quot;: null, &quot;fill&quot;: true, &quot;fillColor&quot;: &quot;lawngreen&quot;, &quot;fillOpacity&quot;: 0.6, &quot;fillRule&quot;: &quot;evenodd&quot;, &quot;lineCap&quot;: &quot;round&quot;, &quot;lineJoin&quot;: &quot;round&quot;, &quot;opacity&quot;: 1, &quot;radius&quot;: 10, &quot;stroke&quot;: true, &quot;weight&quot;: 1}\n            ).addTo(map_fc943d1cdd5ed3aa2ea782deb9876bd1);\n        \n    \n        var popup_30d39fc002265b08425de531328c4d1f = L.popup({\n  &quot;maxWidth&quot;: &quot;100%&quot;,\n});\n\n        \n            \n                var html_8a3e0eb3f4b2a8c666d6f508e5baf5f5 = $(`&lt;div id=&quot;html_8a3e0eb3f4b2a8c666d6f508e5baf5f5&quot; style=&quot;width: 100.0%; height: 100.0%;&quot;&gt;Potential Orphan Site&lt;/div&gt;`)[0];\n                popup_30d39fc002265b08425de531328c4d1f.setContent(html_8a3e0eb3f4b2a8c666d6f508e5baf5f5);\n            \n        \n\n        circle_marker_12d0e1758f637e734e23dd28da174824.bindPopup(popup_30d39fc002265b08425de531328c4d1f)\n        ;\n\n        \n    \n    \n            circle_marker_12d0e1758f637e734e23dd28da174824.bindTooltip(\n                `&lt;div&gt;\n                     Columbia Terminals\n                 &lt;/div&gt;`,\n                {\n  &quot;sticky&quot;: true,\n}\n            );\n        \n&lt;/script&gt;\n&lt;/html&gt;\" style=\"position:absolute;width:100%;height:100%;left:0;top:0;border:none !important;\" allowfullscreen webkitallowfullscreen mozallowfullscreen></iframe></div></div>"
          },
          "metadata": {}
        }
      ],
      "execution_count": 14
    },
    {
      "id": "83994ce5-aaca-404b-81e0-f28adbf09770",
      "cell_type": "code",
      "source": "m.save(\"hackensack_map.html\")",
      "metadata": {
        "trusted": true
      },
      "outputs": [],
      "execution_count": 15
    }
  ]
}