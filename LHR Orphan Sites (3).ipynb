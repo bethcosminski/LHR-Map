{
  "metadata": {
    "kernelspec": {
      "name": "python",
      "display_name": "Python (Pyodide)",
      "language": "python"
    },
    "language_info": {
      "codemirror_mode": {
        "name": "python",
        "version": 3
      },
      "file_extension": ".py",
      "mimetype": "text/x-python",
      "name": "python",
      "nbconvert_exporter": "python",
      "pygments_lexer": "ipython3",
      "version": "3.8"
    }
  },
  "nbformat_minor": 5,
  "nbformat": 4,
  "cells": [
    {
      "id": "1c882cf1-65b6-467e-87c4-5de6db58754f",
      "cell_type": "code",
      "source": "import sys\nprint(sys.executable)",
      "metadata": {
        "trusted": true
      },
      "outputs": [
        {
          "name": "stdout",
          "output_type": "stream",
          "text": "/home/pyodide/this.program\n"
        }
      ],
      "execution_count": 6
    },
    {
      "id": "ebbadaae-027f-493c-85a5-4ea1572ca989",
      "cell_type": "code",
      "source": "%pip install folium",
      "metadata": {
        "trusted": true
      },
      "outputs": [],
      "execution_count": 7
    },
    {
      "id": "7be712e8-4fd0-4b98-8b5d-8d2a0b416a29",
      "cell_type": "code",
      "source": "import folium\nhackensack_coords = [40.77497721300675, -74.08861390083017]\nm = folium.Map(location=hackensack_coords, zoom_start=13, tiles=None)\nfolium.TileLayer(tiles='https://server.arcgisonline.com/ArcGIS/rest/services/World_Imagery/MapServer/tile/{z}/{y}/{x}',\n    attr='ESRI World Imagery',\n    name='Satellite',\n    overlay=False,\n    control=True\n).add_to(m)",
      "metadata": {
        "trusted": true
      },
      "outputs": [
        {
          "execution_count": 8,
          "output_type": "execute_result",
          "data": {
            "text/plain": "<folium.raster_layers.TileLayer at 0x3503428>"
          },
          "metadata": {}
        }
      ],
      "execution_count": 8
    },
    {
      "id": "f660d7db-0719-475f-b92b-91e499b02bf8",
      "cell_type": "code",
      "source": "locations1 = [\n    {\"name\": \"Syncon Resins\", \"lat\": 40.737911427661295, \"lon\": -74.1120098333746},\n    {\"name\": \"Consolidated Bleaching Co.\", \"lat\": 40.77051230376459, \"lon\": -74.03871740268374},\n    {\"name\": \"MI Holdings\", \"lat\": 40.71169274847002, \"lon\": -74.0933},\n    {\"name\": \"Duro-Test Corporation\", \"lat\": 40.77051, \"lon\": -74.03878}]\n\nradius=10\nfor loc in locations1:\n    folium.CircleMarker(\n        location=[loc[\"lat\"], loc[\"lon\"]],\n        radius=radius,\n        color=\"darkblue\",\n        weight=1,\n        fill_opacity=0.6,\n        opacity=1,\n        fill_color=\"cyan\",\n        fill=False,\n        popup=\"True Orphan Site\".format(radius),\n        tooltip=loc[\"name\"]\n    ).add_to(m)\n\nlocations2 = [\n    {\"name\": \"Dye Specialties, Inc\", \"lat\": 40.719866001046825, \"lon\": -74.09282004501311},\n    {\"name\": \"E. Meer Corp\", \"lat\": 40.819995356153846, \"lon\": -74.01455963337158},\n   # {\"name\": \"Armour & Co\", \"lat\": , \"lon\": },\n   # {\"name\": \"Gibraltar Corrugated Paper Co.\", \"lat\": , \"lon\": },\n    {\"name\": \"Columbia Terminals\", \"lat\": 40.72055, \"lon\": -74.11428}]\n\nfor loc in locations2:\n    folium.CircleMarker(\n        location=[loc[\"lat\"], loc[\"lon\"]],\n        radius=radius,\n        color=\"darkgreen\",\n        weight=1,\n        fill_opacity=0.6,\n        opacity=1,\n        fill_color=\"lawngreen\",\n        fill=False,\n        popup=\"Potential Orphan Site\".format(radius),\n        tooltip=loc[\"name\"]\n    ).add_to(m)\nm",
      "metadata": {
        "trusted": true
      },
      "outputs": [
        {
          "execution_count": 9,
          "output_type": "execute_result",
          "data": {
            "text/plain": "<folium.folium.Map at 0x26660f0>",
            "text/html": "<div style=\"width:100%;\"><div style=\"position:relative;width:100%;height:0;padding-bottom:60%;\"><span style=\"color:#565656\">Make this Notebook Trusted to load map: File -> Trust Notebook</span><iframe srcdoc=\"&lt;!DOCTYPE html&gt;\n&lt;html&gt;\n&lt;head&gt;\n    \n    &lt;meta http-equiv=&quot;content-type&quot; content=&quot;text/html; charset=UTF-8&quot; /&gt;\n    \n        &lt;script&gt;\n            L_NO_TOUCH = false;\n            L_DISABLE_3D = false;\n        &lt;/script&gt;\n    \n    &lt;style&gt;html, body {width: 100%;height: 100%;margin: 0;padding: 0;}&lt;/style&gt;\n    &lt;style&gt;#map {position:absolute;top:0;bottom:0;right:0;left:0;}&lt;/style&gt;\n    &lt;script src=&quot;https://cdn.jsdelivr.net/npm/leaflet@1.9.3/dist/leaflet.js&quot;&gt;&lt;/script&gt;\n    &lt;script src=&quot;https://code.jquery.com/jquery-3.7.1.min.js&quot;&gt;&lt;/script&gt;\n    &lt;script src=&quot;https://cdn.jsdelivr.net/npm/bootstrap@5.2.2/dist/js/bootstrap.bundle.min.js&quot;&gt;&lt;/script&gt;\n    &lt;script src=&quot;https://cdnjs.cloudflare.com/ajax/libs/Leaflet.awesome-markers/2.0.2/leaflet.awesome-markers.js&quot;&gt;&lt;/script&gt;\n    &lt;link rel=&quot;stylesheet&quot; href=&quot;https://cdn.jsdelivr.net/npm/leaflet@1.9.3/dist/leaflet.css&quot;/&gt;\n    &lt;link rel=&quot;stylesheet&quot; href=&quot;https://cdn.jsdelivr.net/npm/bootstrap@5.2.2/dist/css/bootstrap.min.css&quot;/&gt;\n    &lt;link rel=&quot;stylesheet&quot; href=&quot;https://netdna.bootstrapcdn.com/bootstrap/3.0.0/css/bootstrap-glyphicons.css&quot;/&gt;\n    &lt;link rel=&quot;stylesheet&quot; href=&quot;https://cdn.jsdelivr.net/npm/@fortawesome/fontawesome-free@6.2.0/css/all.min.css&quot;/&gt;\n    &lt;link rel=&quot;stylesheet&quot; href=&quot;https://cdnjs.cloudflare.com/ajax/libs/Leaflet.awesome-markers/2.0.2/leaflet.awesome-markers.css&quot;/&gt;\n    &lt;link rel=&quot;stylesheet&quot; href=&quot;https://cdn.jsdelivr.net/gh/python-visualization/folium/folium/templates/leaflet.awesome.rotate.min.css&quot;/&gt;\n    \n            &lt;meta name=&quot;viewport&quot; content=&quot;width=device-width,\n                initial-scale=1.0, maximum-scale=1.0, user-scalable=no&quot; /&gt;\n            &lt;style&gt;\n                #map_3febb27e28f158f0ad9a135c4663ca29 {\n                    position: relative;\n                    width: 100.0%;\n                    height: 100.0%;\n                    left: 0.0%;\n                    top: 0.0%;\n                }\n                .leaflet-container { font-size: 1rem; }\n            &lt;/style&gt;\n        \n&lt;/head&gt;\n&lt;body&gt;\n    \n    \n            &lt;div class=&quot;folium-map&quot; id=&quot;map_3febb27e28f158f0ad9a135c4663ca29&quot; &gt;&lt;/div&gt;\n        \n&lt;/body&gt;\n&lt;script&gt;\n    \n    \n            var map_3febb27e28f158f0ad9a135c4663ca29 = L.map(\n                &quot;map_3febb27e28f158f0ad9a135c4663ca29&quot;,\n                {\n                    center: [40.77497721300675, -74.08861390083017],\n                    crs: L.CRS.EPSG3857,\n                    ...{\n  &quot;zoom&quot;: 13,\n  &quot;zoomControl&quot;: true,\n  &quot;preferCanvas&quot;: false,\n}\n\n                }\n            );\n\n            \n\n        \n    \n            var tile_layer_f831da67fb8943b7ff8f70ec328b5dd1 = L.tileLayer(\n                &quot;https://server.arcgisonline.com/ArcGIS/rest/services/World_Imagery/MapServer/tile/{z}/{y}/{x}&quot;,\n                {\n  &quot;minZoom&quot;: 0,\n  &quot;maxZoom&quot;: 18,\n  &quot;maxNativeZoom&quot;: 18,\n  &quot;noWrap&quot;: false,\n  &quot;attribution&quot;: &quot;ESRI World Imagery&quot;,\n  &quot;subdomains&quot;: &quot;abc&quot;,\n  &quot;detectRetina&quot;: false,\n  &quot;tms&quot;: false,\n  &quot;opacity&quot;: 1,\n}\n\n            );\n        \n    \n            tile_layer_f831da67fb8943b7ff8f70ec328b5dd1.addTo(map_3febb27e28f158f0ad9a135c4663ca29);\n        \n    \n            var circle_marker_d6eeb5f2303f8640ef5b64169f64a666 = L.circleMarker(\n                [40.737911427661295, -74.1120098333746],\n                {&quot;bubblingMouseEvents&quot;: true, &quot;color&quot;: &quot;darkblue&quot;, &quot;dashArray&quot;: null, &quot;dashOffset&quot;: null, &quot;fill&quot;: true, &quot;fillColor&quot;: &quot;cyan&quot;, &quot;fillOpacity&quot;: 0.6, &quot;fillRule&quot;: &quot;evenodd&quot;, &quot;lineCap&quot;: &quot;round&quot;, &quot;lineJoin&quot;: &quot;round&quot;, &quot;opacity&quot;: 1, &quot;radius&quot;: 10, &quot;stroke&quot;: true, &quot;weight&quot;: 1}\n            ).addTo(map_3febb27e28f158f0ad9a135c4663ca29);\n        \n    \n        var popup_48e87f87b1e0b91cd3444fb08e092332 = L.popup({\n  &quot;maxWidth&quot;: &quot;100%&quot;,\n});\n\n        \n            \n                var html_b34a646ded491735f65b9df80eb46fe8 = $(`&lt;div id=&quot;html_b34a646ded491735f65b9df80eb46fe8&quot; style=&quot;width: 100.0%; height: 100.0%;&quot;&gt;True Orphan Site&lt;/div&gt;`)[0];\n                popup_48e87f87b1e0b91cd3444fb08e092332.setContent(html_b34a646ded491735f65b9df80eb46fe8);\n            \n        \n\n        circle_marker_d6eeb5f2303f8640ef5b64169f64a666.bindPopup(popup_48e87f87b1e0b91cd3444fb08e092332)\n        ;\n\n        \n    \n    \n            circle_marker_d6eeb5f2303f8640ef5b64169f64a666.bindTooltip(\n                `&lt;div&gt;\n                     Syncon Resins\n                 &lt;/div&gt;`,\n                {\n  &quot;sticky&quot;: true,\n}\n            );\n        \n    \n            var circle_marker_b0ef0975710a342df32a7c6950069f26 = L.circleMarker(\n                [40.77051230376459, -74.03871740268374],\n                {&quot;bubblingMouseEvents&quot;: true, &quot;color&quot;: &quot;darkblue&quot;, &quot;dashArray&quot;: null, &quot;dashOffset&quot;: null, &quot;fill&quot;: true, &quot;fillColor&quot;: &quot;cyan&quot;, &quot;fillOpacity&quot;: 0.6, &quot;fillRule&quot;: &quot;evenodd&quot;, &quot;lineCap&quot;: &quot;round&quot;, &quot;lineJoin&quot;: &quot;round&quot;, &quot;opacity&quot;: 1, &quot;radius&quot;: 10, &quot;stroke&quot;: true, &quot;weight&quot;: 1}\n            ).addTo(map_3febb27e28f158f0ad9a135c4663ca29);\n        \n    \n        var popup_07cc9ac94412fd6121a068a901cbe6d5 = L.popup({\n  &quot;maxWidth&quot;: &quot;100%&quot;,\n});\n\n        \n            \n                var html_acfafa099e90af9f0ddf9ec16ce58c5a = $(`&lt;div id=&quot;html_acfafa099e90af9f0ddf9ec16ce58c5a&quot; style=&quot;width: 100.0%; height: 100.0%;&quot;&gt;True Orphan Site&lt;/div&gt;`)[0];\n                popup_07cc9ac94412fd6121a068a901cbe6d5.setContent(html_acfafa099e90af9f0ddf9ec16ce58c5a);\n            \n        \n\n        circle_marker_b0ef0975710a342df32a7c6950069f26.bindPopup(popup_07cc9ac94412fd6121a068a901cbe6d5)\n        ;\n\n        \n    \n    \n            circle_marker_b0ef0975710a342df32a7c6950069f26.bindTooltip(\n                `&lt;div&gt;\n                     Consolidated Bleaching Co.\n                 &lt;/div&gt;`,\n                {\n  &quot;sticky&quot;: true,\n}\n            );\n        \n    \n            var circle_marker_36bd0be1193a8a0df437e34e7f6fd7c1 = L.circleMarker(\n                [40.71169274847002, -74.0933],\n                {&quot;bubblingMouseEvents&quot;: true, &quot;color&quot;: &quot;darkblue&quot;, &quot;dashArray&quot;: null, &quot;dashOffset&quot;: null, &quot;fill&quot;: true, &quot;fillColor&quot;: &quot;cyan&quot;, &quot;fillOpacity&quot;: 0.6, &quot;fillRule&quot;: &quot;evenodd&quot;, &quot;lineCap&quot;: &quot;round&quot;, &quot;lineJoin&quot;: &quot;round&quot;, &quot;opacity&quot;: 1, &quot;radius&quot;: 10, &quot;stroke&quot;: true, &quot;weight&quot;: 1}\n            ).addTo(map_3febb27e28f158f0ad9a135c4663ca29);\n        \n    \n        var popup_af9ced8a16a1d780ef4f2d9d8b1da713 = L.popup({\n  &quot;maxWidth&quot;: &quot;100%&quot;,\n});\n\n        \n            \n                var html_605828af4ba942a1de862e654ae702a5 = $(`&lt;div id=&quot;html_605828af4ba942a1de862e654ae702a5&quot; style=&quot;width: 100.0%; height: 100.0%;&quot;&gt;True Orphan Site&lt;/div&gt;`)[0];\n                popup_af9ced8a16a1d780ef4f2d9d8b1da713.setContent(html_605828af4ba942a1de862e654ae702a5);\n            \n        \n\n        circle_marker_36bd0be1193a8a0df437e34e7f6fd7c1.bindPopup(popup_af9ced8a16a1d780ef4f2d9d8b1da713)\n        ;\n\n        \n    \n    \n            circle_marker_36bd0be1193a8a0df437e34e7f6fd7c1.bindTooltip(\n                `&lt;div&gt;\n                     MI Holdings\n                 &lt;/div&gt;`,\n                {\n  &quot;sticky&quot;: true,\n}\n            );\n        \n    \n            var circle_marker_d46a9308be3e0a3cba7b2515e88dfb50 = L.circleMarker(\n                [40.77051, -74.03878],\n                {&quot;bubblingMouseEvents&quot;: true, &quot;color&quot;: &quot;darkblue&quot;, &quot;dashArray&quot;: null, &quot;dashOffset&quot;: null, &quot;fill&quot;: true, &quot;fillColor&quot;: &quot;cyan&quot;, &quot;fillOpacity&quot;: 0.6, &quot;fillRule&quot;: &quot;evenodd&quot;, &quot;lineCap&quot;: &quot;round&quot;, &quot;lineJoin&quot;: &quot;round&quot;, &quot;opacity&quot;: 1, &quot;radius&quot;: 10, &quot;stroke&quot;: true, &quot;weight&quot;: 1}\n            ).addTo(map_3febb27e28f158f0ad9a135c4663ca29);\n        \n    \n        var popup_53dd804eb60424fda3aec1988f295908 = L.popup({\n  &quot;maxWidth&quot;: &quot;100%&quot;,\n});\n\n        \n            \n                var html_a558e1adbe66beaf800cc31685f8004e = $(`&lt;div id=&quot;html_a558e1adbe66beaf800cc31685f8004e&quot; style=&quot;width: 100.0%; height: 100.0%;&quot;&gt;True Orphan Site&lt;/div&gt;`)[0];\n                popup_53dd804eb60424fda3aec1988f295908.setContent(html_a558e1adbe66beaf800cc31685f8004e);\n            \n        \n\n        circle_marker_d46a9308be3e0a3cba7b2515e88dfb50.bindPopup(popup_53dd804eb60424fda3aec1988f295908)\n        ;\n\n        \n    \n    \n            circle_marker_d46a9308be3e0a3cba7b2515e88dfb50.bindTooltip(\n                `&lt;div&gt;\n                     Duro-Test Corporation\n                 &lt;/div&gt;`,\n                {\n  &quot;sticky&quot;: true,\n}\n            );\n        \n    \n            var circle_marker_cd207382d89d32d0d403d5e793841f7e = L.circleMarker(\n                [40.719866001046825, -74.09282004501311],\n                {&quot;bubblingMouseEvents&quot;: true, &quot;color&quot;: &quot;darkgreen&quot;, &quot;dashArray&quot;: null, &quot;dashOffset&quot;: null, &quot;fill&quot;: true, &quot;fillColor&quot;: &quot;lawngreen&quot;, &quot;fillOpacity&quot;: 0.6, &quot;fillRule&quot;: &quot;evenodd&quot;, &quot;lineCap&quot;: &quot;round&quot;, &quot;lineJoin&quot;: &quot;round&quot;, &quot;opacity&quot;: 1, &quot;radius&quot;: 10, &quot;stroke&quot;: true, &quot;weight&quot;: 1}\n            ).addTo(map_3febb27e28f158f0ad9a135c4663ca29);\n        \n    \n        var popup_b65453e811fa7144a9ba9d475abc78b8 = L.popup({\n  &quot;maxWidth&quot;: &quot;100%&quot;,\n});\n\n        \n            \n                var html_e6929362c902d44051227ee8358b904b = $(`&lt;div id=&quot;html_e6929362c902d44051227ee8358b904b&quot; style=&quot;width: 100.0%; height: 100.0%;&quot;&gt;Potential Orphan Site&lt;/div&gt;`)[0];\n                popup_b65453e811fa7144a9ba9d475abc78b8.setContent(html_e6929362c902d44051227ee8358b904b);\n            \n        \n\n        circle_marker_cd207382d89d32d0d403d5e793841f7e.bindPopup(popup_b65453e811fa7144a9ba9d475abc78b8)\n        ;\n\n        \n    \n    \n            circle_marker_cd207382d89d32d0d403d5e793841f7e.bindTooltip(\n                `&lt;div&gt;\n                     Dye Specialties, Inc\n                 &lt;/div&gt;`,\n                {\n  &quot;sticky&quot;: true,\n}\n            );\n        \n    \n            var circle_marker_2ac82d3ca3045b62f7e30ca5ab4096ca = L.circleMarker(\n                [40.819995356153846, -74.01455963337158],\n                {&quot;bubblingMouseEvents&quot;: true, &quot;color&quot;: &quot;darkgreen&quot;, &quot;dashArray&quot;: null, &quot;dashOffset&quot;: null, &quot;fill&quot;: true, &quot;fillColor&quot;: &quot;lawngreen&quot;, &quot;fillOpacity&quot;: 0.6, &quot;fillRule&quot;: &quot;evenodd&quot;, &quot;lineCap&quot;: &quot;round&quot;, &quot;lineJoin&quot;: &quot;round&quot;, &quot;opacity&quot;: 1, &quot;radius&quot;: 10, &quot;stroke&quot;: true, &quot;weight&quot;: 1}\n            ).addTo(map_3febb27e28f158f0ad9a135c4663ca29);\n        \n    \n        var popup_c8d3b376746073ea586b13943c504808 = L.popup({\n  &quot;maxWidth&quot;: &quot;100%&quot;,\n});\n\n        \n            \n                var html_cf11950bbebbb5a6e9e270b3a826feae = $(`&lt;div id=&quot;html_cf11950bbebbb5a6e9e270b3a826feae&quot; style=&quot;width: 100.0%; height: 100.0%;&quot;&gt;Potential Orphan Site&lt;/div&gt;`)[0];\n                popup_c8d3b376746073ea586b13943c504808.setContent(html_cf11950bbebbb5a6e9e270b3a826feae);\n            \n        \n\n        circle_marker_2ac82d3ca3045b62f7e30ca5ab4096ca.bindPopup(popup_c8d3b376746073ea586b13943c504808)\n        ;\n\n        \n    \n    \n            circle_marker_2ac82d3ca3045b62f7e30ca5ab4096ca.bindTooltip(\n                `&lt;div&gt;\n                     E. Meer Corp\n                 &lt;/div&gt;`,\n                {\n  &quot;sticky&quot;: true,\n}\n            );\n        \n    \n            var circle_marker_3bf617cc850bd587856a5e3722900ce7 = L.circleMarker(\n                [40.72055, -74.11428],\n                {&quot;bubblingMouseEvents&quot;: true, &quot;color&quot;: &quot;darkgreen&quot;, &quot;dashArray&quot;: null, &quot;dashOffset&quot;: null, &quot;fill&quot;: true, &quot;fillColor&quot;: &quot;lawngreen&quot;, &quot;fillOpacity&quot;: 0.6, &quot;fillRule&quot;: &quot;evenodd&quot;, &quot;lineCap&quot;: &quot;round&quot;, &quot;lineJoin&quot;: &quot;round&quot;, &quot;opacity&quot;: 1, &quot;radius&quot;: 10, &quot;stroke&quot;: true, &quot;weight&quot;: 1}\n            ).addTo(map_3febb27e28f158f0ad9a135c4663ca29);\n        \n    \n        var popup_f996318ebb3dfab64b3f3e90a80ad0fd = L.popup({\n  &quot;maxWidth&quot;: &quot;100%&quot;,\n});\n\n        \n            \n                var html_5eae36bcfce18e0a060f78aabaf40022 = $(`&lt;div id=&quot;html_5eae36bcfce18e0a060f78aabaf40022&quot; style=&quot;width: 100.0%; height: 100.0%;&quot;&gt;Potential Orphan Site&lt;/div&gt;`)[0];\n                popup_f996318ebb3dfab64b3f3e90a80ad0fd.setContent(html_5eae36bcfce18e0a060f78aabaf40022);\n            \n        \n\n        circle_marker_3bf617cc850bd587856a5e3722900ce7.bindPopup(popup_f996318ebb3dfab64b3f3e90a80ad0fd)\n        ;\n\n        \n    \n    \n            circle_marker_3bf617cc850bd587856a5e3722900ce7.bindTooltip(\n                `&lt;div&gt;\n                     Columbia Terminals\n                 &lt;/div&gt;`,\n                {\n  &quot;sticky&quot;: true,\n}\n            );\n        \n&lt;/script&gt;\n&lt;/html&gt;\" style=\"position:absolute;width:100%;height:100%;left:0;top:0;border:none !important;\" allowfullscreen webkitallowfullscreen mozallowfullscreen></iframe></div></div>"
          },
          "metadata": {}
        }
      ],
      "execution_count": 9
    },
    {
      "id": "83994ce5-aaca-404b-81e0-f28adbf09770",
      "cell_type": "code",
      "source": "m.save(\"hackensack_map.html\")",
      "metadata": {
        "trusted": true
      },
      "outputs": [],
      "execution_count": 10
    }
  ]
}