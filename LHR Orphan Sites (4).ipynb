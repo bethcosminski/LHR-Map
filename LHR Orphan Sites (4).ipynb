{
  "metadata": {
    "kernelspec": {
      "name": "python",
      "display_name": "Python (Pyodide)",
      "language": "python"
    },
    "language_info": {
      "codemirror_mode": {
        "name": "python",
        "version": 3
      },
      "file_extension": ".py",
      "mimetype": "text/x-python",
      "name": "python",
      "nbconvert_exporter": "python",
      "pygments_lexer": "ipython3",
      "version": "3.8"
    }
  },
  "nbformat_minor": 5,
  "nbformat": 4,
  "cells": [
    {
      "id": "1c882cf1-65b6-467e-87c4-5de6db58754f",
      "cell_type": "code",
      "source": "import sys\nprint(sys.executable)",
      "metadata": {
        "trusted": true
      },
      "outputs": [
        {
          "name": "stdout",
          "output_type": "stream",
          "text": "/home/pyodide/this.program\n"
        }
      ],
      "execution_count": 11
    },
    {
      "id": "ebbadaae-027f-493c-85a5-4ea1572ca989",
      "cell_type": "code",
      "source": "%pip install folium",
      "metadata": {
        "trusted": true
      },
      "outputs": [],
      "execution_count": 12
    },
    {
      "id": "7be712e8-4fd0-4b98-8b5d-8d2a0b416a29",
      "cell_type": "code",
      "source": "import folium\nhackensack_coords = [40.747887099155825, -74.086516475245]\nm = folium.Map(location=hackensack_coords, zoom_start=12, tiles=None)\nfolium.TileLayer(tiles='https://server.arcgisonline.com/ArcGIS/rest/services/World_Imagery/MapServer/tile/{z}/{y}/{x}',\n    attr='ESRI World Imagery',\n    name='Satellite',\n    overlay=False,\n    control=True\n).add_to(m)",
      "metadata": {
        "trusted": true
      },
      "outputs": [
        {
          "execution_count": 13,
          "output_type": "execute_result",
          "data": {
            "text/plain": "<folium.raster_layers.TileLayer at 0x2857530>"
          },
          "metadata": {}
        }
      ],
      "execution_count": 13
    },
    {
      "id": "f660d7db-0719-475f-b92b-91e499b02bf8",
      "cell_type": "code",
      "source": "locations1 = [\n    {\"name\": \"Syncon Resins\", \"lat\": 40.737911427661295, \"lon\": -74.1120098333746},\n    {\"name\": \"Consolidated Bleaching Co.\", \"lat\": 40.77051230376459, \"lon\": -74.03871740268374},\n    {\"name\": \"MI Holdings\", \"lat\": 40.71169274847002, \"lon\": -74.0933},\n    {\"name\": \"Duro-Test Corporation\", \"lat\": 40.77051, \"lon\": -74.03878}]\n\nradius=10\nfor loc in locations1:\n    folium.CircleMarker(\n        location=[loc[\"lat\"], loc[\"lon\"]],\n        radius=radius,\n        color=\"darkblue\",\n        weight=1,\n        fill_opacity=0.6,\n        opacity=1,\n        fill_color=\"cyan\",\n        fill=False,\n        popup=\"True Orphan Site\".format(radius),\n        tooltip=loc[\"name\"]\n    ).add_to(m)\n\nlocations2 = [\n    {\"name\": \"Dye Specialties, Inc\", \"lat\": 40.719866001046825, \"lon\": -74.09282004501311},\n    {\"name\": \"E. Meer Corp\", \"lat\": 40.819995356153846, \"lon\": -74.01455963337158},\n   # {\"name\": \"Armour & Co\", \"lat\": , \"lon\": },\n   # {\"name\": \"Gibraltar Corrugated Paper Co.\", \"lat\": , \"lon\": },\n    {\"name\": \"Columbia Terminals\", \"lat\": 40.72055, \"lon\": -74.11428}]\n\nfor loc in locations2:\n    folium.CircleMarker(\n        location=[loc[\"lat\"], loc[\"lon\"]],\n        radius=radius,\n        color=\"darkgreen\",\n        weight=1,\n        fill_opacity=0.6,\n        opacity=1,\n        fill_color=\"lawngreen\",\n        fill=False,\n        popup=\"Potential Orphan Site\".format(radius),\n        tooltip=loc[\"name\"]\n    ).add_to(m)\nm",
      "metadata": {
        "trusted": true
      },
      "outputs": [
        {
          "execution_count": 14,
          "output_type": "execute_result",
          "data": {
            "text/plain": "<folium.folium.Map at 0x1445e40>",
            "text/html": "<div style=\"width:100%;\"><div style=\"position:relative;width:100%;height:0;padding-bottom:60%;\"><span style=\"color:#565656\">Make this Notebook Trusted to load map: File -> Trust Notebook</span><iframe srcdoc=\"&lt;!DOCTYPE html&gt;\n&lt;html&gt;\n&lt;head&gt;\n    \n    &lt;meta http-equiv=&quot;content-type&quot; content=&quot;text/html; charset=UTF-8&quot; /&gt;\n    \n        &lt;script&gt;\n            L_NO_TOUCH = false;\n            L_DISABLE_3D = false;\n        &lt;/script&gt;\n    \n    &lt;style&gt;html, body {width: 100%;height: 100%;margin: 0;padding: 0;}&lt;/style&gt;\n    &lt;style&gt;#map {position:absolute;top:0;bottom:0;right:0;left:0;}&lt;/style&gt;\n    &lt;script src=&quot;https://cdn.jsdelivr.net/npm/leaflet@1.9.3/dist/leaflet.js&quot;&gt;&lt;/script&gt;\n    &lt;script src=&quot;https://code.jquery.com/jquery-3.7.1.min.js&quot;&gt;&lt;/script&gt;\n    &lt;script src=&quot;https://cdn.jsdelivr.net/npm/bootstrap@5.2.2/dist/js/bootstrap.bundle.min.js&quot;&gt;&lt;/script&gt;\n    &lt;script src=&quot;https://cdnjs.cloudflare.com/ajax/libs/Leaflet.awesome-markers/2.0.2/leaflet.awesome-markers.js&quot;&gt;&lt;/script&gt;\n    &lt;link rel=&quot;stylesheet&quot; href=&quot;https://cdn.jsdelivr.net/npm/leaflet@1.9.3/dist/leaflet.css&quot;/&gt;\n    &lt;link rel=&quot;stylesheet&quot; href=&quot;https://cdn.jsdelivr.net/npm/bootstrap@5.2.2/dist/css/bootstrap.min.css&quot;/&gt;\n    &lt;link rel=&quot;stylesheet&quot; href=&quot;https://netdna.bootstrapcdn.com/bootstrap/3.0.0/css/bootstrap-glyphicons.css&quot;/&gt;\n    &lt;link rel=&quot;stylesheet&quot; href=&quot;https://cdn.jsdelivr.net/npm/@fortawesome/fontawesome-free@6.2.0/css/all.min.css&quot;/&gt;\n    &lt;link rel=&quot;stylesheet&quot; href=&quot;https://cdnjs.cloudflare.com/ajax/libs/Leaflet.awesome-markers/2.0.2/leaflet.awesome-markers.css&quot;/&gt;\n    &lt;link rel=&quot;stylesheet&quot; href=&quot;https://cdn.jsdelivr.net/gh/python-visualization/folium/folium/templates/leaflet.awesome.rotate.min.css&quot;/&gt;\n    \n            &lt;meta name=&quot;viewport&quot; content=&quot;width=device-width,\n                initial-scale=1.0, maximum-scale=1.0, user-scalable=no&quot; /&gt;\n            &lt;style&gt;\n                #map_4a9d8e4580282c4bf78c28e705750f6c {\n                    position: relative;\n                    width: 100.0%;\n                    height: 100.0%;\n                    left: 0.0%;\n                    top: 0.0%;\n                }\n                .leaflet-container { font-size: 1rem; }\n            &lt;/style&gt;\n        \n&lt;/head&gt;\n&lt;body&gt;\n    \n    \n            &lt;div class=&quot;folium-map&quot; id=&quot;map_4a9d8e4580282c4bf78c28e705750f6c&quot; &gt;&lt;/div&gt;\n        \n&lt;/body&gt;\n&lt;script&gt;\n    \n    \n            var map_4a9d8e4580282c4bf78c28e705750f6c = L.map(\n                &quot;map_4a9d8e4580282c4bf78c28e705750f6c&quot;,\n                {\n                    center: [40.747887099155825, -74.086516475245],\n                    crs: L.CRS.EPSG3857,\n                    ...{\n  &quot;zoom&quot;: 12,\n  &quot;zoomControl&quot;: true,\n  &quot;preferCanvas&quot;: false,\n}\n\n                }\n            );\n\n            \n\n        \n    \n            var tile_layer_137261dc90c8b492d8e8563ceb1fc662 = L.tileLayer(\n                &quot;https://server.arcgisonline.com/ArcGIS/rest/services/World_Imagery/MapServer/tile/{z}/{y}/{x}&quot;,\n                {\n  &quot;minZoom&quot;: 0,\n  &quot;maxZoom&quot;: 18,\n  &quot;maxNativeZoom&quot;: 18,\n  &quot;noWrap&quot;: false,\n  &quot;attribution&quot;: &quot;ESRI World Imagery&quot;,\n  &quot;subdomains&quot;: &quot;abc&quot;,\n  &quot;detectRetina&quot;: false,\n  &quot;tms&quot;: false,\n  &quot;opacity&quot;: 1,\n}\n\n            );\n        \n    \n            tile_layer_137261dc90c8b492d8e8563ceb1fc662.addTo(map_4a9d8e4580282c4bf78c28e705750f6c);\n        \n    \n            var circle_marker_5d283c415ee4ed86117b27bb68a64434 = L.circleMarker(\n                [40.737911427661295, -74.1120098333746],\n                {&quot;bubblingMouseEvents&quot;: true, &quot;color&quot;: &quot;darkblue&quot;, &quot;dashArray&quot;: null, &quot;dashOffset&quot;: null, &quot;fill&quot;: true, &quot;fillColor&quot;: &quot;cyan&quot;, &quot;fillOpacity&quot;: 0.6, &quot;fillRule&quot;: &quot;evenodd&quot;, &quot;lineCap&quot;: &quot;round&quot;, &quot;lineJoin&quot;: &quot;round&quot;, &quot;opacity&quot;: 1, &quot;radius&quot;: 10, &quot;stroke&quot;: true, &quot;weight&quot;: 1}\n            ).addTo(map_4a9d8e4580282c4bf78c28e705750f6c);\n        \n    \n        var popup_2d7288ee7b7cc9231bfe9bcde2755172 = L.popup({\n  &quot;maxWidth&quot;: &quot;100%&quot;,\n});\n\n        \n            \n                var html_c0c187d591e9f285bb2e1870f6e03672 = $(`&lt;div id=&quot;html_c0c187d591e9f285bb2e1870f6e03672&quot; style=&quot;width: 100.0%; height: 100.0%;&quot;&gt;True Orphan Site&lt;/div&gt;`)[0];\n                popup_2d7288ee7b7cc9231bfe9bcde2755172.setContent(html_c0c187d591e9f285bb2e1870f6e03672);\n            \n        \n\n        circle_marker_5d283c415ee4ed86117b27bb68a64434.bindPopup(popup_2d7288ee7b7cc9231bfe9bcde2755172)\n        ;\n\n        \n    \n    \n            circle_marker_5d283c415ee4ed86117b27bb68a64434.bindTooltip(\n                `&lt;div&gt;\n                     Syncon Resins\n                 &lt;/div&gt;`,\n                {\n  &quot;sticky&quot;: true,\n}\n            );\n        \n    \n            var circle_marker_54377e50351ddff7738e81093089abeb = L.circleMarker(\n                [40.77051230376459, -74.03871740268374],\n                {&quot;bubblingMouseEvents&quot;: true, &quot;color&quot;: &quot;darkblue&quot;, &quot;dashArray&quot;: null, &quot;dashOffset&quot;: null, &quot;fill&quot;: true, &quot;fillColor&quot;: &quot;cyan&quot;, &quot;fillOpacity&quot;: 0.6, &quot;fillRule&quot;: &quot;evenodd&quot;, &quot;lineCap&quot;: &quot;round&quot;, &quot;lineJoin&quot;: &quot;round&quot;, &quot;opacity&quot;: 1, &quot;radius&quot;: 10, &quot;stroke&quot;: true, &quot;weight&quot;: 1}\n            ).addTo(map_4a9d8e4580282c4bf78c28e705750f6c);\n        \n    \n        var popup_92ce115f854c62d814ff600717ef91dd = L.popup({\n  &quot;maxWidth&quot;: &quot;100%&quot;,\n});\n\n        \n            \n                var html_1534128671430dfff777f22df1728d0f = $(`&lt;div id=&quot;html_1534128671430dfff777f22df1728d0f&quot; style=&quot;width: 100.0%; height: 100.0%;&quot;&gt;True Orphan Site&lt;/div&gt;`)[0];\n                popup_92ce115f854c62d814ff600717ef91dd.setContent(html_1534128671430dfff777f22df1728d0f);\n            \n        \n\n        circle_marker_54377e50351ddff7738e81093089abeb.bindPopup(popup_92ce115f854c62d814ff600717ef91dd)\n        ;\n\n        \n    \n    \n            circle_marker_54377e50351ddff7738e81093089abeb.bindTooltip(\n                `&lt;div&gt;\n                     Consolidated Bleaching Co.\n                 &lt;/div&gt;`,\n                {\n  &quot;sticky&quot;: true,\n}\n            );\n        \n    \n            var circle_marker_fcbd7e058f95f21321e2c1a8a6267957 = L.circleMarker(\n                [40.71169274847002, -74.0933],\n                {&quot;bubblingMouseEvents&quot;: true, &quot;color&quot;: &quot;darkblue&quot;, &quot;dashArray&quot;: null, &quot;dashOffset&quot;: null, &quot;fill&quot;: true, &quot;fillColor&quot;: &quot;cyan&quot;, &quot;fillOpacity&quot;: 0.6, &quot;fillRule&quot;: &quot;evenodd&quot;, &quot;lineCap&quot;: &quot;round&quot;, &quot;lineJoin&quot;: &quot;round&quot;, &quot;opacity&quot;: 1, &quot;radius&quot;: 10, &quot;stroke&quot;: true, &quot;weight&quot;: 1}\n            ).addTo(map_4a9d8e4580282c4bf78c28e705750f6c);\n        \n    \n        var popup_17e7f1e73ea7122fcbcbedac80e28835 = L.popup({\n  &quot;maxWidth&quot;: &quot;100%&quot;,\n});\n\n        \n            \n                var html_1bb4b81d903c78fcf1695fc89b890b31 = $(`&lt;div id=&quot;html_1bb4b81d903c78fcf1695fc89b890b31&quot; style=&quot;width: 100.0%; height: 100.0%;&quot;&gt;True Orphan Site&lt;/div&gt;`)[0];\n                popup_17e7f1e73ea7122fcbcbedac80e28835.setContent(html_1bb4b81d903c78fcf1695fc89b890b31);\n            \n        \n\n        circle_marker_fcbd7e058f95f21321e2c1a8a6267957.bindPopup(popup_17e7f1e73ea7122fcbcbedac80e28835)\n        ;\n\n        \n    \n    \n            circle_marker_fcbd7e058f95f21321e2c1a8a6267957.bindTooltip(\n                `&lt;div&gt;\n                     MI Holdings\n                 &lt;/div&gt;`,\n                {\n  &quot;sticky&quot;: true,\n}\n            );\n        \n    \n            var circle_marker_373f6e713f444e1daca7f0c8bd4dc432 = L.circleMarker(\n                [40.77051, -74.03878],\n                {&quot;bubblingMouseEvents&quot;: true, &quot;color&quot;: &quot;darkblue&quot;, &quot;dashArray&quot;: null, &quot;dashOffset&quot;: null, &quot;fill&quot;: true, &quot;fillColor&quot;: &quot;cyan&quot;, &quot;fillOpacity&quot;: 0.6, &quot;fillRule&quot;: &quot;evenodd&quot;, &quot;lineCap&quot;: &quot;round&quot;, &quot;lineJoin&quot;: &quot;round&quot;, &quot;opacity&quot;: 1, &quot;radius&quot;: 10, &quot;stroke&quot;: true, &quot;weight&quot;: 1}\n            ).addTo(map_4a9d8e4580282c4bf78c28e705750f6c);\n        \n    \n        var popup_223846349cad7fa22c9c0befd5be1ae6 = L.popup({\n  &quot;maxWidth&quot;: &quot;100%&quot;,\n});\n\n        \n            \n                var html_77e63c8b6ad59271de84640eba74219e = $(`&lt;div id=&quot;html_77e63c8b6ad59271de84640eba74219e&quot; style=&quot;width: 100.0%; height: 100.0%;&quot;&gt;True Orphan Site&lt;/div&gt;`)[0];\n                popup_223846349cad7fa22c9c0befd5be1ae6.setContent(html_77e63c8b6ad59271de84640eba74219e);\n            \n        \n\n        circle_marker_373f6e713f444e1daca7f0c8bd4dc432.bindPopup(popup_223846349cad7fa22c9c0befd5be1ae6)\n        ;\n\n        \n    \n    \n            circle_marker_373f6e713f444e1daca7f0c8bd4dc432.bindTooltip(\n                `&lt;div&gt;\n                     Duro-Test Corporation\n                 &lt;/div&gt;`,\n                {\n  &quot;sticky&quot;: true,\n}\n            );\n        \n    \n            var circle_marker_5e842f2c5e01a316cffa44c63bd48b8a = L.circleMarker(\n                [40.719866001046825, -74.09282004501311],\n                {&quot;bubblingMouseEvents&quot;: true, &quot;color&quot;: &quot;darkgreen&quot;, &quot;dashArray&quot;: null, &quot;dashOffset&quot;: null, &quot;fill&quot;: true, &quot;fillColor&quot;: &quot;lawngreen&quot;, &quot;fillOpacity&quot;: 0.6, &quot;fillRule&quot;: &quot;evenodd&quot;, &quot;lineCap&quot;: &quot;round&quot;, &quot;lineJoin&quot;: &quot;round&quot;, &quot;opacity&quot;: 1, &quot;radius&quot;: 10, &quot;stroke&quot;: true, &quot;weight&quot;: 1}\n            ).addTo(map_4a9d8e4580282c4bf78c28e705750f6c);\n        \n    \n        var popup_f5cf71e0c0bd89707f906912d57a4d97 = L.popup({\n  &quot;maxWidth&quot;: &quot;100%&quot;,\n});\n\n        \n            \n                var html_62763d705559b5c1f04b4f18e0c276ec = $(`&lt;div id=&quot;html_62763d705559b5c1f04b4f18e0c276ec&quot; style=&quot;width: 100.0%; height: 100.0%;&quot;&gt;Potential Orphan Site&lt;/div&gt;`)[0];\n                popup_f5cf71e0c0bd89707f906912d57a4d97.setContent(html_62763d705559b5c1f04b4f18e0c276ec);\n            \n        \n\n        circle_marker_5e842f2c5e01a316cffa44c63bd48b8a.bindPopup(popup_f5cf71e0c0bd89707f906912d57a4d97)\n        ;\n\n        \n    \n    \n            circle_marker_5e842f2c5e01a316cffa44c63bd48b8a.bindTooltip(\n                `&lt;div&gt;\n                     Dye Specialties, Inc\n                 &lt;/div&gt;`,\n                {\n  &quot;sticky&quot;: true,\n}\n            );\n        \n    \n            var circle_marker_5a2ccce8f5cdc26613baa2d9687d485f = L.circleMarker(\n                [40.819995356153846, -74.01455963337158],\n                {&quot;bubblingMouseEvents&quot;: true, &quot;color&quot;: &quot;darkgreen&quot;, &quot;dashArray&quot;: null, &quot;dashOffset&quot;: null, &quot;fill&quot;: true, &quot;fillColor&quot;: &quot;lawngreen&quot;, &quot;fillOpacity&quot;: 0.6, &quot;fillRule&quot;: &quot;evenodd&quot;, &quot;lineCap&quot;: &quot;round&quot;, &quot;lineJoin&quot;: &quot;round&quot;, &quot;opacity&quot;: 1, &quot;radius&quot;: 10, &quot;stroke&quot;: true, &quot;weight&quot;: 1}\n            ).addTo(map_4a9d8e4580282c4bf78c28e705750f6c);\n        \n    \n        var popup_d5dd2ede7fde1da546cee710812b6c4f = L.popup({\n  &quot;maxWidth&quot;: &quot;100%&quot;,\n});\n\n        \n            \n                var html_209f928f698b881cdc5245b9192ee479 = $(`&lt;div id=&quot;html_209f928f698b881cdc5245b9192ee479&quot; style=&quot;width: 100.0%; height: 100.0%;&quot;&gt;Potential Orphan Site&lt;/div&gt;`)[0];\n                popup_d5dd2ede7fde1da546cee710812b6c4f.setContent(html_209f928f698b881cdc5245b9192ee479);\n            \n        \n\n        circle_marker_5a2ccce8f5cdc26613baa2d9687d485f.bindPopup(popup_d5dd2ede7fde1da546cee710812b6c4f)\n        ;\n\n        \n    \n    \n            circle_marker_5a2ccce8f5cdc26613baa2d9687d485f.bindTooltip(\n                `&lt;div&gt;\n                     E. Meer Corp\n                 &lt;/div&gt;`,\n                {\n  &quot;sticky&quot;: true,\n}\n            );\n        \n    \n            var circle_marker_454b2419a1603cd3e92a9ca8b7507d49 = L.circleMarker(\n                [40.72055, -74.11428],\n                {&quot;bubblingMouseEvents&quot;: true, &quot;color&quot;: &quot;darkgreen&quot;, &quot;dashArray&quot;: null, &quot;dashOffset&quot;: null, &quot;fill&quot;: true, &quot;fillColor&quot;: &quot;lawngreen&quot;, &quot;fillOpacity&quot;: 0.6, &quot;fillRule&quot;: &quot;evenodd&quot;, &quot;lineCap&quot;: &quot;round&quot;, &quot;lineJoin&quot;: &quot;round&quot;, &quot;opacity&quot;: 1, &quot;radius&quot;: 10, &quot;stroke&quot;: true, &quot;weight&quot;: 1}\n            ).addTo(map_4a9d8e4580282c4bf78c28e705750f6c);\n        \n    \n        var popup_300f641e204885d989da92509a12e084 = L.popup({\n  &quot;maxWidth&quot;: &quot;100%&quot;,\n});\n\n        \n            \n                var html_25d815c1ab9f88f8a3bb1b88a1f86038 = $(`&lt;div id=&quot;html_25d815c1ab9f88f8a3bb1b88a1f86038&quot; style=&quot;width: 100.0%; height: 100.0%;&quot;&gt;Potential Orphan Site&lt;/div&gt;`)[0];\n                popup_300f641e204885d989da92509a12e084.setContent(html_25d815c1ab9f88f8a3bb1b88a1f86038);\n            \n        \n\n        circle_marker_454b2419a1603cd3e92a9ca8b7507d49.bindPopup(popup_300f641e204885d989da92509a12e084)\n        ;\n\n        \n    \n    \n            circle_marker_454b2419a1603cd3e92a9ca8b7507d49.bindTooltip(\n                `&lt;div&gt;\n                     Columbia Terminals\n                 &lt;/div&gt;`,\n                {\n  &quot;sticky&quot;: true,\n}\n            );\n        \n&lt;/script&gt;\n&lt;/html&gt;\" style=\"position:absolute;width:100%;height:100%;left:0;top:0;border:none !important;\" allowfullscreen webkitallowfullscreen mozallowfullscreen></iframe></div></div>"
          },
          "metadata": {}
        }
      ],
      "execution_count": 14
    },
    {
      "id": "83994ce5-aaca-404b-81e0-f28adbf09770",
      "cell_type": "code",
      "source": "m.save(\"hackensack_map.html\")",
      "metadata": {
        "trusted": true
      },
      "outputs": [],
      "execution_count": 15
    }
  ]
}