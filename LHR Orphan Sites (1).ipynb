{
  "metadata": {
    "kernelspec": {
      "name": "python",
      "display_name": "Python (Pyodide)",
      "language": "python"
    },
    "language_info": {
      "codemirror_mode": {
        "name": "python",
        "version": 3
      },
      "file_extension": ".py",
      "mimetype": "text/x-python",
      "name": "python",
      "nbconvert_exporter": "python",
      "pygments_lexer": "ipython3",
      "version": "3.8"
    }
  },
  "nbformat_minor": 5,
  "nbformat": 4,
  "cells": [
    {
      "id": "1c882cf1-65b6-467e-87c4-5de6db58754f",
      "cell_type": "code",
      "source": "import sys\nprint(sys.executable)",
      "metadata": {
        "trusted": true
      },
      "outputs": [
        {
          "name": "stdout",
          "output_type": "stream",
          "text": "/home/pyodide/this.program\n"
        }
      ],
      "execution_count": 1
    },
    {
      "id": "ebbadaae-027f-493c-85a5-4ea1572ca989",
      "cell_type": "code",
      "source": "%pip install folium",
      "metadata": {
        "trusted": true
      },
      "outputs": [],
      "execution_count": 2
    },
    {
      "id": "7be712e8-4fd0-4b98-8b5d-8d2a0b416a29",
      "cell_type": "code",
      "source": "import folium\nhackensack_coords = [40.738893, -74.104844]\nm = folium.Map(location=hackensack_coords, zoom_start=13, tiles=None)\nfolium.TileLayer(tiles='https://server.arcgisonline.com/ArcGIS/rest/services/World_Imagery/MapServer/tile/{z}/{y}/{x}',\n    attr='ESRI World Imagery',\n    name='Satellite',\n    overlay=False,\n    control=True\n).add_to(m)",
      "metadata": {
        "trusted": true
      },
      "outputs": [
        {
          "execution_count": 4,
          "output_type": "execute_result",
          "data": {
            "text/plain": "<folium.raster_layers.TileLayer at 0x164ff60>"
          },
          "metadata": {}
        }
      ],
      "execution_count": 4
    },
    {
      "id": "f660d7db-0719-475f-b92b-91e499b02bf8",
      "cell_type": "code",
      "source": "locations1 = [\n    {\"name\": \"Syncon Resins\", \"lat\": 40.737911427661295, \"lon\": -74.1120098333746},\n    {\"name\": \"Consolidated Bleaching Co.\", \"lat\": 40.77051230376459, \"lon\": -74.03871740268374},\n    {\"name\": \"MI Holdings\", \"lat\": 40.71169274847002, \"lon\": -74.0933},\n    {\"name\": \"Duro-Test Corporation\", \"lat\": 40.77051, \"lon\": -74.03878}]\n\nradius=10\nfor loc in locations1:\n    folium.CircleMarker(\n        location=[loc[\"lat\"], loc[\"lon\"]],\n        radius=radius,\n        color=\"darkblue\",\n        weight=1,\n        fill_opacity=0.6,\n        opacity=1,\n        fill_color=\"lightblue\",\n        fill=False,\n        popup=\"True Orphan Site\".format(radius),\n        tooltip=loc[\"name\"]\n    ).add_to(m)\n\nlocations2 = [\n    {\"name\": \"Dye Specialties, Inc\", \"lat\": 40.719866001046825, \"lon\": -74.09282004501311},\n    {\"name\": \"E. Meer Corp\", \"lat\": 40.819995356153846, \"lon\": -74.01455963337158},\n   # {\"name\": \"Armour & Co\", \"lat\": , \"lon\": },\n   # {\"name\": \"Gibraltar Corrugated Paper Co.\", \"lat\": , \"lon\": },\n    {\"name\": \"Columbia Terminals\", \"lat\": 40.72055, \"lon\": -74.11428}]\n\nfor loc in locations2:\n    folium.CircleMarker(\n        location=[loc[\"lat\"], loc[\"lon\"]],\n        radius=radius,\n        color=\"darkgreen\",\n        weight=1,\n        fill_opacity=0.6,\n        opacity=1,\n        fill_color=\"lightgreen\",\n        fill=False,\n        popup=\"Potential Orphan Site\".format(radius),\n        tooltip=loc[\"name\"]\n    ).add_to(m)\nm",
      "metadata": {
        "trusted": true
      },
      "outputs": [
        {
          "execution_count": 5,
          "output_type": "execute_result",
          "data": {
            "text/plain": "<folium.folium.Map at 0x32be618>",
            "text/html": "<div style=\"width:100%;\"><div style=\"position:relative;width:100%;height:0;padding-bottom:60%;\"><span style=\"color:#565656\">Make this Notebook Trusted to load map: File -> Trust Notebook</span><iframe srcdoc=\"&lt;!DOCTYPE html&gt;\n&lt;html&gt;\n&lt;head&gt;\n    \n    &lt;meta http-equiv=&quot;content-type&quot; content=&quot;text/html; charset=UTF-8&quot; /&gt;\n    \n        &lt;script&gt;\n            L_NO_TOUCH = false;\n            L_DISABLE_3D = false;\n        &lt;/script&gt;\n    \n    &lt;style&gt;html, body {width: 100%;height: 100%;margin: 0;padding: 0;}&lt;/style&gt;\n    &lt;style&gt;#map {position:absolute;top:0;bottom:0;right:0;left:0;}&lt;/style&gt;\n    &lt;script src=&quot;https://cdn.jsdelivr.net/npm/leaflet@1.9.3/dist/leaflet.js&quot;&gt;&lt;/script&gt;\n    &lt;script src=&quot;https://code.jquery.com/jquery-3.7.1.min.js&quot;&gt;&lt;/script&gt;\n    &lt;script src=&quot;https://cdn.jsdelivr.net/npm/bootstrap@5.2.2/dist/js/bootstrap.bundle.min.js&quot;&gt;&lt;/script&gt;\n    &lt;script src=&quot;https://cdnjs.cloudflare.com/ajax/libs/Leaflet.awesome-markers/2.0.2/leaflet.awesome-markers.js&quot;&gt;&lt;/script&gt;\n    &lt;link rel=&quot;stylesheet&quot; href=&quot;https://cdn.jsdelivr.net/npm/leaflet@1.9.3/dist/leaflet.css&quot;/&gt;\n    &lt;link rel=&quot;stylesheet&quot; href=&quot;https://cdn.jsdelivr.net/npm/bootstrap@5.2.2/dist/css/bootstrap.min.css&quot;/&gt;\n    &lt;link rel=&quot;stylesheet&quot; href=&quot;https://netdna.bootstrapcdn.com/bootstrap/3.0.0/css/bootstrap-glyphicons.css&quot;/&gt;\n    &lt;link rel=&quot;stylesheet&quot; href=&quot;https://cdn.jsdelivr.net/npm/@fortawesome/fontawesome-free@6.2.0/css/all.min.css&quot;/&gt;\n    &lt;link rel=&quot;stylesheet&quot; href=&quot;https://cdnjs.cloudflare.com/ajax/libs/Leaflet.awesome-markers/2.0.2/leaflet.awesome-markers.css&quot;/&gt;\n    &lt;link rel=&quot;stylesheet&quot; href=&quot;https://cdn.jsdelivr.net/gh/python-visualization/folium/folium/templates/leaflet.awesome.rotate.min.css&quot;/&gt;\n    \n            &lt;meta name=&quot;viewport&quot; content=&quot;width=device-width,\n                initial-scale=1.0, maximum-scale=1.0, user-scalable=no&quot; /&gt;\n            &lt;style&gt;\n                #map_ff015653cbebb69168af0516563143d4 {\n                    position: relative;\n                    width: 100.0%;\n                    height: 100.0%;\n                    left: 0.0%;\n                    top: 0.0%;\n                }\n                .leaflet-container { font-size: 1rem; }\n            &lt;/style&gt;\n        \n&lt;/head&gt;\n&lt;body&gt;\n    \n    \n            &lt;div class=&quot;folium-map&quot; id=&quot;map_ff015653cbebb69168af0516563143d4&quot; &gt;&lt;/div&gt;\n        \n&lt;/body&gt;\n&lt;script&gt;\n    \n    \n            var map_ff015653cbebb69168af0516563143d4 = L.map(\n                &quot;map_ff015653cbebb69168af0516563143d4&quot;,\n                {\n                    center: [40.738893, -74.104844],\n                    crs: L.CRS.EPSG3857,\n                    ...{\n  &quot;zoom&quot;: 13,\n  &quot;zoomControl&quot;: true,\n  &quot;preferCanvas&quot;: false,\n}\n\n                }\n            );\n\n            \n\n        \n    \n            var tile_layer_ffab97cf4960f36813e1230ce0cd6f10 = L.tileLayer(\n                &quot;https://server.arcgisonline.com/ArcGIS/rest/services/World_Imagery/MapServer/tile/{z}/{y}/{x}&quot;,\n                {\n  &quot;minZoom&quot;: 0,\n  &quot;maxZoom&quot;: 18,\n  &quot;maxNativeZoom&quot;: 18,\n  &quot;noWrap&quot;: false,\n  &quot;attribution&quot;: &quot;ESRI World Imagery&quot;,\n  &quot;subdomains&quot;: &quot;abc&quot;,\n  &quot;detectRetina&quot;: false,\n  &quot;tms&quot;: false,\n  &quot;opacity&quot;: 1,\n}\n\n            );\n        \n    \n            tile_layer_ffab97cf4960f36813e1230ce0cd6f10.addTo(map_ff015653cbebb69168af0516563143d4);\n        \n    \n            var circle_marker_980604cbb7243c078c32f6a217e0adfd = L.circleMarker(\n                [40.737911427661295, -74.1120098333746],\n                {&quot;bubblingMouseEvents&quot;: true, &quot;color&quot;: &quot;darkblue&quot;, &quot;dashArray&quot;: null, &quot;dashOffset&quot;: null, &quot;fill&quot;: true, &quot;fillColor&quot;: &quot;lightblue&quot;, &quot;fillOpacity&quot;: 0.6, &quot;fillRule&quot;: &quot;evenodd&quot;, &quot;lineCap&quot;: &quot;round&quot;, &quot;lineJoin&quot;: &quot;round&quot;, &quot;opacity&quot;: 1, &quot;radius&quot;: 10, &quot;stroke&quot;: true, &quot;weight&quot;: 1}\n            ).addTo(map_ff015653cbebb69168af0516563143d4);\n        \n    \n        var popup_23363fe2b8f9b429d275610b009355ed = L.popup({\n  &quot;maxWidth&quot;: &quot;100%&quot;,\n});\n\n        \n            \n                var html_7696b5af49ed410c14e14391a5125592 = $(`&lt;div id=&quot;html_7696b5af49ed410c14e14391a5125592&quot; style=&quot;width: 100.0%; height: 100.0%;&quot;&gt;True Orphan Site&lt;/div&gt;`)[0];\n                popup_23363fe2b8f9b429d275610b009355ed.setContent(html_7696b5af49ed410c14e14391a5125592);\n            \n        \n\n        circle_marker_980604cbb7243c078c32f6a217e0adfd.bindPopup(popup_23363fe2b8f9b429d275610b009355ed)\n        ;\n\n        \n    \n    \n            circle_marker_980604cbb7243c078c32f6a217e0adfd.bindTooltip(\n                `&lt;div&gt;\n                     Syncon Resins\n                 &lt;/div&gt;`,\n                {\n  &quot;sticky&quot;: true,\n}\n            );\n        \n    \n            var circle_marker_740dbb7db0cc2947f1de2c30a927856a = L.circleMarker(\n                [40.77051230376459, -74.03871740268374],\n                {&quot;bubblingMouseEvents&quot;: true, &quot;color&quot;: &quot;darkblue&quot;, &quot;dashArray&quot;: null, &quot;dashOffset&quot;: null, &quot;fill&quot;: true, &quot;fillColor&quot;: &quot;lightblue&quot;, &quot;fillOpacity&quot;: 0.6, &quot;fillRule&quot;: &quot;evenodd&quot;, &quot;lineCap&quot;: &quot;round&quot;, &quot;lineJoin&quot;: &quot;round&quot;, &quot;opacity&quot;: 1, &quot;radius&quot;: 10, &quot;stroke&quot;: true, &quot;weight&quot;: 1}\n            ).addTo(map_ff015653cbebb69168af0516563143d4);\n        \n    \n        var popup_fa376099b6f19d879b766067784de836 = L.popup({\n  &quot;maxWidth&quot;: &quot;100%&quot;,\n});\n\n        \n            \n                var html_1c5228cf8e5b94f23165fe63a9a77a06 = $(`&lt;div id=&quot;html_1c5228cf8e5b94f23165fe63a9a77a06&quot; style=&quot;width: 100.0%; height: 100.0%;&quot;&gt;True Orphan Site&lt;/div&gt;`)[0];\n                popup_fa376099b6f19d879b766067784de836.setContent(html_1c5228cf8e5b94f23165fe63a9a77a06);\n            \n        \n\n        circle_marker_740dbb7db0cc2947f1de2c30a927856a.bindPopup(popup_fa376099b6f19d879b766067784de836)\n        ;\n\n        \n    \n    \n            circle_marker_740dbb7db0cc2947f1de2c30a927856a.bindTooltip(\n                `&lt;div&gt;\n                     Consolidated Bleaching Co.\n                 &lt;/div&gt;`,\n                {\n  &quot;sticky&quot;: true,\n}\n            );\n        \n    \n            var circle_marker_2738cf698434ca27f9731d99f1ca2da8 = L.circleMarker(\n                [40.71169274847002, -74.0933],\n                {&quot;bubblingMouseEvents&quot;: true, &quot;color&quot;: &quot;darkblue&quot;, &quot;dashArray&quot;: null, &quot;dashOffset&quot;: null, &quot;fill&quot;: true, &quot;fillColor&quot;: &quot;lightblue&quot;, &quot;fillOpacity&quot;: 0.6, &quot;fillRule&quot;: &quot;evenodd&quot;, &quot;lineCap&quot;: &quot;round&quot;, &quot;lineJoin&quot;: &quot;round&quot;, &quot;opacity&quot;: 1, &quot;radius&quot;: 10, &quot;stroke&quot;: true, &quot;weight&quot;: 1}\n            ).addTo(map_ff015653cbebb69168af0516563143d4);\n        \n    \n        var popup_17ea4e6a3a6f12769070c53e19c21163 = L.popup({\n  &quot;maxWidth&quot;: &quot;100%&quot;,\n});\n\n        \n            \n                var html_8bc62724fe1cd8a46b15d5ee5c008d7a = $(`&lt;div id=&quot;html_8bc62724fe1cd8a46b15d5ee5c008d7a&quot; style=&quot;width: 100.0%; height: 100.0%;&quot;&gt;True Orphan Site&lt;/div&gt;`)[0];\n                popup_17ea4e6a3a6f12769070c53e19c21163.setContent(html_8bc62724fe1cd8a46b15d5ee5c008d7a);\n            \n        \n\n        circle_marker_2738cf698434ca27f9731d99f1ca2da8.bindPopup(popup_17ea4e6a3a6f12769070c53e19c21163)\n        ;\n\n        \n    \n    \n            circle_marker_2738cf698434ca27f9731d99f1ca2da8.bindTooltip(\n                `&lt;div&gt;\n                     MI Holdings\n                 &lt;/div&gt;`,\n                {\n  &quot;sticky&quot;: true,\n}\n            );\n        \n    \n            var circle_marker_e2a1833cd55b0315c9dac7f76453412e = L.circleMarker(\n                [40.77051, -74.03878],\n                {&quot;bubblingMouseEvents&quot;: true, &quot;color&quot;: &quot;darkblue&quot;, &quot;dashArray&quot;: null, &quot;dashOffset&quot;: null, &quot;fill&quot;: true, &quot;fillColor&quot;: &quot;lightblue&quot;, &quot;fillOpacity&quot;: 0.6, &quot;fillRule&quot;: &quot;evenodd&quot;, &quot;lineCap&quot;: &quot;round&quot;, &quot;lineJoin&quot;: &quot;round&quot;, &quot;opacity&quot;: 1, &quot;radius&quot;: 10, &quot;stroke&quot;: true, &quot;weight&quot;: 1}\n            ).addTo(map_ff015653cbebb69168af0516563143d4);\n        \n    \n        var popup_b9b0a7f513ae576f3e51e9ba8a260b50 = L.popup({\n  &quot;maxWidth&quot;: &quot;100%&quot;,\n});\n\n        \n            \n                var html_3a95b2e4556795c69ea5495226bc4899 = $(`&lt;div id=&quot;html_3a95b2e4556795c69ea5495226bc4899&quot; style=&quot;width: 100.0%; height: 100.0%;&quot;&gt;True Orphan Site&lt;/div&gt;`)[0];\n                popup_b9b0a7f513ae576f3e51e9ba8a260b50.setContent(html_3a95b2e4556795c69ea5495226bc4899);\n            \n        \n\n        circle_marker_e2a1833cd55b0315c9dac7f76453412e.bindPopup(popup_b9b0a7f513ae576f3e51e9ba8a260b50)\n        ;\n\n        \n    \n    \n            circle_marker_e2a1833cd55b0315c9dac7f76453412e.bindTooltip(\n                `&lt;div&gt;\n                     Duro-Test Corporation\n                 &lt;/div&gt;`,\n                {\n  &quot;sticky&quot;: true,\n}\n            );\n        \n    \n            var circle_marker_72c98f6a950949727274fc30d2551593 = L.circleMarker(\n                [40.719866001046825, -74.09282004501311],\n                {&quot;bubblingMouseEvents&quot;: true, &quot;color&quot;: &quot;darkgreen&quot;, &quot;dashArray&quot;: null, &quot;dashOffset&quot;: null, &quot;fill&quot;: true, &quot;fillColor&quot;: &quot;lightgreen&quot;, &quot;fillOpacity&quot;: 0.6, &quot;fillRule&quot;: &quot;evenodd&quot;, &quot;lineCap&quot;: &quot;round&quot;, &quot;lineJoin&quot;: &quot;round&quot;, &quot;opacity&quot;: 1, &quot;radius&quot;: 10, &quot;stroke&quot;: true, &quot;weight&quot;: 1}\n            ).addTo(map_ff015653cbebb69168af0516563143d4);\n        \n    \n        var popup_371f6638cd4fc5097d496877a468585a = L.popup({\n  &quot;maxWidth&quot;: &quot;100%&quot;,\n});\n\n        \n            \n                var html_dcb894273dc440a64bef7b1a8076143e = $(`&lt;div id=&quot;html_dcb894273dc440a64bef7b1a8076143e&quot; style=&quot;width: 100.0%; height: 100.0%;&quot;&gt;Potential Orphan Site&lt;/div&gt;`)[0];\n                popup_371f6638cd4fc5097d496877a468585a.setContent(html_dcb894273dc440a64bef7b1a8076143e);\n            \n        \n\n        circle_marker_72c98f6a950949727274fc30d2551593.bindPopup(popup_371f6638cd4fc5097d496877a468585a)\n        ;\n\n        \n    \n    \n            circle_marker_72c98f6a950949727274fc30d2551593.bindTooltip(\n                `&lt;div&gt;\n                     Dye Specialties, Inc\n                 &lt;/div&gt;`,\n                {\n  &quot;sticky&quot;: true,\n}\n            );\n        \n    \n            var circle_marker_248fc460685648c94ee1d1497a2b3162 = L.circleMarker(\n                [40.819995356153846, -74.01455963337158],\n                {&quot;bubblingMouseEvents&quot;: true, &quot;color&quot;: &quot;darkgreen&quot;, &quot;dashArray&quot;: null, &quot;dashOffset&quot;: null, &quot;fill&quot;: true, &quot;fillColor&quot;: &quot;lightgreen&quot;, &quot;fillOpacity&quot;: 0.6, &quot;fillRule&quot;: &quot;evenodd&quot;, &quot;lineCap&quot;: &quot;round&quot;, &quot;lineJoin&quot;: &quot;round&quot;, &quot;opacity&quot;: 1, &quot;radius&quot;: 10, &quot;stroke&quot;: true, &quot;weight&quot;: 1}\n            ).addTo(map_ff015653cbebb69168af0516563143d4);\n        \n    \n        var popup_6fa9ccac02867ef948334c5421f2b5d8 = L.popup({\n  &quot;maxWidth&quot;: &quot;100%&quot;,\n});\n\n        \n            \n                var html_7792531eb968e9acf594106aeda17b64 = $(`&lt;div id=&quot;html_7792531eb968e9acf594106aeda17b64&quot; style=&quot;width: 100.0%; height: 100.0%;&quot;&gt;Potential Orphan Site&lt;/div&gt;`)[0];\n                popup_6fa9ccac02867ef948334c5421f2b5d8.setContent(html_7792531eb968e9acf594106aeda17b64);\n            \n        \n\n        circle_marker_248fc460685648c94ee1d1497a2b3162.bindPopup(popup_6fa9ccac02867ef948334c5421f2b5d8)\n        ;\n\n        \n    \n    \n            circle_marker_248fc460685648c94ee1d1497a2b3162.bindTooltip(\n                `&lt;div&gt;\n                     E. Meer Corp\n                 &lt;/div&gt;`,\n                {\n  &quot;sticky&quot;: true,\n}\n            );\n        \n    \n            var circle_marker_ad0e7c8807c5e41e7d01ae588526595e = L.circleMarker(\n                [40.72055, -74.11428],\n                {&quot;bubblingMouseEvents&quot;: true, &quot;color&quot;: &quot;darkgreen&quot;, &quot;dashArray&quot;: null, &quot;dashOffset&quot;: null, &quot;fill&quot;: true, &quot;fillColor&quot;: &quot;lightgreen&quot;, &quot;fillOpacity&quot;: 0.6, &quot;fillRule&quot;: &quot;evenodd&quot;, &quot;lineCap&quot;: &quot;round&quot;, &quot;lineJoin&quot;: &quot;round&quot;, &quot;opacity&quot;: 1, &quot;radius&quot;: 10, &quot;stroke&quot;: true, &quot;weight&quot;: 1}\n            ).addTo(map_ff015653cbebb69168af0516563143d4);\n        \n    \n        var popup_312886e9fb34065c1a1ff2939abadb12 = L.popup({\n  &quot;maxWidth&quot;: &quot;100%&quot;,\n});\n\n        \n            \n                var html_8aea7556c75bdfbd14dff92adbc4fb56 = $(`&lt;div id=&quot;html_8aea7556c75bdfbd14dff92adbc4fb56&quot; style=&quot;width: 100.0%; height: 100.0%;&quot;&gt;Potential Orphan Site&lt;/div&gt;`)[0];\n                popup_312886e9fb34065c1a1ff2939abadb12.setContent(html_8aea7556c75bdfbd14dff92adbc4fb56);\n            \n        \n\n        circle_marker_ad0e7c8807c5e41e7d01ae588526595e.bindPopup(popup_312886e9fb34065c1a1ff2939abadb12)\n        ;\n\n        \n    \n    \n            circle_marker_ad0e7c8807c5e41e7d01ae588526595e.bindTooltip(\n                `&lt;div&gt;\n                     Columbia Terminals\n                 &lt;/div&gt;`,\n                {\n  &quot;sticky&quot;: true,\n}\n            );\n        \n&lt;/script&gt;\n&lt;/html&gt;\" style=\"position:absolute;width:100%;height:100%;left:0;top:0;border:none !important;\" allowfullscreen webkitallowfullscreen mozallowfullscreen></iframe></div></div>"
          },
          "metadata": {}
        }
      ],
      "execution_count": 5
    },
    {
      "id": "83994ce5-aaca-404b-81e0-f28adbf09770",
      "cell_type": "code",
      "source": "m.save(\"hackensack_map.html\")",
      "metadata": {
        "trusted": true
      },
      "outputs": [],
      "execution_count": null
    }
  ]
}